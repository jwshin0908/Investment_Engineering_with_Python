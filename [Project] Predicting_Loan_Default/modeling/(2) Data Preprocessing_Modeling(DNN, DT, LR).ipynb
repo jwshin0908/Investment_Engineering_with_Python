{
 "cells": [
  {
   "cell_type": "markdown",
   "id": "7d948b74",
   "metadata": {},
   "source": [
    "## 0. 데이터 불러오기"
   ]
  },
  {
   "cell_type": "code",
   "execution_count": 1,
   "id": "b79d93d4",
   "metadata": {},
   "outputs": [],
   "source": [
    "import numpy as np\n",
    "import pandas as pd\n",
    "import matplotlib.pyplot as plt\n",
    "import seaborn as sns\n",
    "pd.options.display.max_columns = 100\n",
    "\n",
    "import warnings\n",
    "warnings.filterwarnings('ignore')"
   ]
  },
  {
   "cell_type": "code",
   "execution_count": 2,
   "id": "5876246a",
   "metadata": {},
   "outputs": [],
   "source": [
    "train_x = pd.read_csv('data/train/train.csv')\n",
    "train_y = pd.read_csv('data/train/train_label.csv')\n",
    "test_x = pd.read_csv('data/test/test.csv')\n",
    "test_y = pd.read_csv('data/test/test_label.csv')"
   ]
  },
  {
   "cell_type": "code",
   "execution_count": 3,
   "id": "6b8c9afb",
   "metadata": {},
   "outputs": [],
   "source": [
    "# EDA 및 전처리 과정 용이하게 하기 위해 합침\n",
    "train = pd.merge(train_x, train_y)"
   ]
  },
  {
   "cell_type": "code",
   "execution_count": 4,
   "id": "cd8c3d23",
   "metadata": {},
   "outputs": [],
   "source": [
    "# EDA 및 전처리 과정 용이하게 하기 위해 합침\n",
    "test = pd.merge(test_x, test_y)"
   ]
  },
  {
   "cell_type": "markdown",
   "id": "0c8e08e9",
   "metadata": {},
   "source": [
    "## 1. train, test 공통 전처리"
   ]
  },
  {
   "cell_type": "code",
   "execution_count": 5,
   "id": "7de859f5",
   "metadata": {},
   "outputs": [
    {
     "data": {
      "text/html": [
       "<div>\n",
       "<style scoped>\n",
       "    .dataframe tbody tr th:only-of-type {\n",
       "        vertical-align: middle;\n",
       "    }\n",
       "\n",
       "    .dataframe tbody tr th {\n",
       "        vertical-align: top;\n",
       "    }\n",
       "\n",
       "    .dataframe thead th {\n",
       "        text-align: right;\n",
       "    }\n",
       "</style>\n",
       "<table border=\"1\" class=\"dataframe\">\n",
       "  <thead>\n",
       "    <tr style=\"text-align: right;\">\n",
       "      <th></th>\n",
       "      <th>index</th>\n",
       "      <th>gender</th>\n",
       "      <th>car</th>\n",
       "      <th>reality</th>\n",
       "      <th>child_num</th>\n",
       "      <th>income_total</th>\n",
       "      <th>income_type</th>\n",
       "      <th>edu_type</th>\n",
       "      <th>family_type</th>\n",
       "      <th>house_type</th>\n",
       "      <th>DAYS_BIRTH</th>\n",
       "      <th>DAYS_EMPLOYED</th>\n",
       "      <th>FLAG_MOBIL</th>\n",
       "      <th>work_phone</th>\n",
       "      <th>phone</th>\n",
       "      <th>email</th>\n",
       "      <th>occyp_type</th>\n",
       "      <th>family_size</th>\n",
       "      <th>begin_month</th>\n",
       "      <th>credit</th>\n",
       "    </tr>\n",
       "  </thead>\n",
       "  <tbody>\n",
       "    <tr>\n",
       "      <th>0</th>\n",
       "      <td>0</td>\n",
       "      <td>F</td>\n",
       "      <td>Y</td>\n",
       "      <td>Y</td>\n",
       "      <td>0</td>\n",
       "      <td>202500.0</td>\n",
       "      <td>Pensioner</td>\n",
       "      <td>Secondary / secondary special</td>\n",
       "      <td>Married</td>\n",
       "      <td>House / apartment</td>\n",
       "      <td>-19031</td>\n",
       "      <td>365243</td>\n",
       "      <td>1</td>\n",
       "      <td>0</td>\n",
       "      <td>0</td>\n",
       "      <td>0</td>\n",
       "      <td>NaN</td>\n",
       "      <td>2</td>\n",
       "      <td>-53</td>\n",
       "      <td>1</td>\n",
       "    </tr>\n",
       "    <tr>\n",
       "      <th>1</th>\n",
       "      <td>1</td>\n",
       "      <td>F</td>\n",
       "      <td>N</td>\n",
       "      <td>N</td>\n",
       "      <td>1</td>\n",
       "      <td>157500.0</td>\n",
       "      <td>Working</td>\n",
       "      <td>Higher education</td>\n",
       "      <td>Married</td>\n",
       "      <td>House / apartment</td>\n",
       "      <td>-15773</td>\n",
       "      <td>-309</td>\n",
       "      <td>1</td>\n",
       "      <td>0</td>\n",
       "      <td>1</td>\n",
       "      <td>0</td>\n",
       "      <td>Sales staff</td>\n",
       "      <td>3</td>\n",
       "      <td>-26</td>\n",
       "      <td>0</td>\n",
       "    </tr>\n",
       "    <tr>\n",
       "      <th>2</th>\n",
       "      <td>2</td>\n",
       "      <td>M</td>\n",
       "      <td>Y</td>\n",
       "      <td>N</td>\n",
       "      <td>0</td>\n",
       "      <td>135000.0</td>\n",
       "      <td>Working</td>\n",
       "      <td>Secondary / secondary special</td>\n",
       "      <td>Married</td>\n",
       "      <td>House / apartment</td>\n",
       "      <td>-13483</td>\n",
       "      <td>-1816</td>\n",
       "      <td>1</td>\n",
       "      <td>1</td>\n",
       "      <td>1</td>\n",
       "      <td>0</td>\n",
       "      <td>Laborers</td>\n",
       "      <td>2</td>\n",
       "      <td>-9</td>\n",
       "      <td>1</td>\n",
       "    </tr>\n",
       "    <tr>\n",
       "      <th>3</th>\n",
       "      <td>3</td>\n",
       "      <td>F</td>\n",
       "      <td>Y</td>\n",
       "      <td>N</td>\n",
       "      <td>2</td>\n",
       "      <td>112500.0</td>\n",
       "      <td>Working</td>\n",
       "      <td>Secondary / secondary special</td>\n",
       "      <td>Married</td>\n",
       "      <td>House / apartment</td>\n",
       "      <td>-12270</td>\n",
       "      <td>-150</td>\n",
       "      <td>1</td>\n",
       "      <td>0</td>\n",
       "      <td>1</td>\n",
       "      <td>0</td>\n",
       "      <td>Security staff</td>\n",
       "      <td>4</td>\n",
       "      <td>-12</td>\n",
       "      <td>1</td>\n",
       "    </tr>\n",
       "    <tr>\n",
       "      <th>4</th>\n",
       "      <td>4</td>\n",
       "      <td>M</td>\n",
       "      <td>Y</td>\n",
       "      <td>Y</td>\n",
       "      <td>1</td>\n",
       "      <td>225000.0</td>\n",
       "      <td>Working</td>\n",
       "      <td>Secondary / secondary special</td>\n",
       "      <td>Married</td>\n",
       "      <td>House / apartment</td>\n",
       "      <td>-16175</td>\n",
       "      <td>-2371</td>\n",
       "      <td>1</td>\n",
       "      <td>0</td>\n",
       "      <td>0</td>\n",
       "      <td>0</td>\n",
       "      <td>Drivers</td>\n",
       "      <td>3</td>\n",
       "      <td>-3</td>\n",
       "      <td>1</td>\n",
       "    </tr>\n",
       "  </tbody>\n",
       "</table>\n",
       "</div>"
      ],
      "text/plain": [
       "   index gender car reality  child_num  income_total income_type  \\\n",
       "0      0      F   Y       Y          0      202500.0   Pensioner   \n",
       "1      1      F   N       N          1      157500.0     Working   \n",
       "2      2      M   Y       N          0      135000.0     Working   \n",
       "3      3      F   Y       N          2      112500.0     Working   \n",
       "4      4      M   Y       Y          1      225000.0     Working   \n",
       "\n",
       "                        edu_type family_type         house_type  DAYS_BIRTH  \\\n",
       "0  Secondary / secondary special     Married  House / apartment      -19031   \n",
       "1               Higher education     Married  House / apartment      -15773   \n",
       "2  Secondary / secondary special     Married  House / apartment      -13483   \n",
       "3  Secondary / secondary special     Married  House / apartment      -12270   \n",
       "4  Secondary / secondary special     Married  House / apartment      -16175   \n",
       "\n",
       "   DAYS_EMPLOYED  FLAG_MOBIL  work_phone  phone  email      occyp_type  \\\n",
       "0         365243           1           0      0      0             NaN   \n",
       "1           -309           1           0      1      0     Sales staff   \n",
       "2          -1816           1           1      1      0        Laborers   \n",
       "3           -150           1           0      1      0  Security staff   \n",
       "4          -2371           1           0      0      0         Drivers   \n",
       "\n",
       "   family_size  begin_month  credit  \n",
       "0            2          -53       1  \n",
       "1            3          -26       0  \n",
       "2            2           -9       1  \n",
       "3            4          -12       1  \n",
       "4            3           -3       1  "
      ]
     },
     "execution_count": 5,
     "metadata": {},
     "output_type": "execute_result"
    }
   ],
   "source": [
    "train.head()"
   ]
  },
  {
   "cell_type": "code",
   "execution_count": 6,
   "id": "ad4c2652",
   "metadata": {},
   "outputs": [
    {
     "data": {
      "text/html": [
       "<div>\n",
       "<style scoped>\n",
       "    .dataframe tbody tr th:only-of-type {\n",
       "        vertical-align: middle;\n",
       "    }\n",
       "\n",
       "    .dataframe tbody tr th {\n",
       "        vertical-align: top;\n",
       "    }\n",
       "\n",
       "    .dataframe thead th {\n",
       "        text-align: right;\n",
       "    }\n",
       "</style>\n",
       "<table border=\"1\" class=\"dataframe\">\n",
       "  <thead>\n",
       "    <tr style=\"text-align: right;\">\n",
       "      <th></th>\n",
       "      <th>index</th>\n",
       "      <th>gender</th>\n",
       "      <th>car</th>\n",
       "      <th>reality</th>\n",
       "      <th>child_num</th>\n",
       "      <th>income_total</th>\n",
       "      <th>income_type</th>\n",
       "      <th>edu_type</th>\n",
       "      <th>family_type</th>\n",
       "      <th>house_type</th>\n",
       "      <th>DAYS_BIRTH</th>\n",
       "      <th>DAYS_EMPLOYED</th>\n",
       "      <th>FLAG_MOBIL</th>\n",
       "      <th>work_phone</th>\n",
       "      <th>phone</th>\n",
       "      <th>email</th>\n",
       "      <th>occyp_type</th>\n",
       "      <th>family_size</th>\n",
       "      <th>begin_month</th>\n",
       "      <th>credit</th>\n",
       "    </tr>\n",
       "  </thead>\n",
       "  <tbody>\n",
       "    <tr>\n",
       "      <th>0</th>\n",
       "      <td>0</td>\n",
       "      <td>M</td>\n",
       "      <td>N</td>\n",
       "      <td>Y</td>\n",
       "      <td>0</td>\n",
       "      <td>211500.0</td>\n",
       "      <td>Working</td>\n",
       "      <td>Secondary / secondary special</td>\n",
       "      <td>Single / not married</td>\n",
       "      <td>House / apartment</td>\n",
       "      <td>-10072</td>\n",
       "      <td>-1101</td>\n",
       "      <td>1</td>\n",
       "      <td>1</td>\n",
       "      <td>1</td>\n",
       "      <td>0</td>\n",
       "      <td>Core staff</td>\n",
       "      <td>1</td>\n",
       "      <td>-10</td>\n",
       "      <td>NaN</td>\n",
       "    </tr>\n",
       "    <tr>\n",
       "      <th>1</th>\n",
       "      <td>1</td>\n",
       "      <td>F</td>\n",
       "      <td>N</td>\n",
       "      <td>Y</td>\n",
       "      <td>0</td>\n",
       "      <td>157500.0</td>\n",
       "      <td>Pensioner</td>\n",
       "      <td>Secondary / secondary special</td>\n",
       "      <td>Widow</td>\n",
       "      <td>House / apartment</td>\n",
       "      <td>-24340</td>\n",
       "      <td>365243</td>\n",
       "      <td>1</td>\n",
       "      <td>0</td>\n",
       "      <td>1</td>\n",
       "      <td>0</td>\n",
       "      <td>NaN</td>\n",
       "      <td>1</td>\n",
       "      <td>-52</td>\n",
       "      <td>NaN</td>\n",
       "    </tr>\n",
       "    <tr>\n",
       "      <th>2</th>\n",
       "      <td>2</td>\n",
       "      <td>F</td>\n",
       "      <td>N</td>\n",
       "      <td>Y</td>\n",
       "      <td>0</td>\n",
       "      <td>45000.0</td>\n",
       "      <td>Commercial associate</td>\n",
       "      <td>Secondary / secondary special</td>\n",
       "      <td>Married</td>\n",
       "      <td>House / apartment</td>\n",
       "      <td>-15724</td>\n",
       "      <td>-1389</td>\n",
       "      <td>1</td>\n",
       "      <td>1</td>\n",
       "      <td>1</td>\n",
       "      <td>0</td>\n",
       "      <td>Sales staff</td>\n",
       "      <td>2</td>\n",
       "      <td>-15</td>\n",
       "      <td>NaN</td>\n",
       "    </tr>\n",
       "    <tr>\n",
       "      <th>3</th>\n",
       "      <td>3</td>\n",
       "      <td>M</td>\n",
       "      <td>N</td>\n",
       "      <td>Y</td>\n",
       "      <td>2</td>\n",
       "      <td>270000.0</td>\n",
       "      <td>Working</td>\n",
       "      <td>Secondary / secondary special</td>\n",
       "      <td>Single / not married</td>\n",
       "      <td>House / apartment</td>\n",
       "      <td>-11505</td>\n",
       "      <td>-4019</td>\n",
       "      <td>1</td>\n",
       "      <td>0</td>\n",
       "      <td>0</td>\n",
       "      <td>0</td>\n",
       "      <td>Laborers</td>\n",
       "      <td>3</td>\n",
       "      <td>-24</td>\n",
       "      <td>NaN</td>\n",
       "    </tr>\n",
       "    <tr>\n",
       "      <th>4</th>\n",
       "      <td>4</td>\n",
       "      <td>F</td>\n",
       "      <td>N</td>\n",
       "      <td>Y</td>\n",
       "      <td>0</td>\n",
       "      <td>202500.0</td>\n",
       "      <td>Working</td>\n",
       "      <td>Secondary / secondary special</td>\n",
       "      <td>Married</td>\n",
       "      <td>House / apartment</td>\n",
       "      <td>-15929</td>\n",
       "      <td>-2879</td>\n",
       "      <td>1</td>\n",
       "      <td>0</td>\n",
       "      <td>1</td>\n",
       "      <td>0</td>\n",
       "      <td>Laborers</td>\n",
       "      <td>2</td>\n",
       "      <td>-54</td>\n",
       "      <td>NaN</td>\n",
       "    </tr>\n",
       "  </tbody>\n",
       "</table>\n",
       "</div>"
      ],
      "text/plain": [
       "   index gender car reality  child_num  income_total           income_type  \\\n",
       "0      0      M   N       Y          0      211500.0               Working   \n",
       "1      1      F   N       Y          0      157500.0             Pensioner   \n",
       "2      2      F   N       Y          0       45000.0  Commercial associate   \n",
       "3      3      M   N       Y          2      270000.0               Working   \n",
       "4      4      F   N       Y          0      202500.0               Working   \n",
       "\n",
       "                        edu_type           family_type         house_type  \\\n",
       "0  Secondary / secondary special  Single / not married  House / apartment   \n",
       "1  Secondary / secondary special                 Widow  House / apartment   \n",
       "2  Secondary / secondary special               Married  House / apartment   \n",
       "3  Secondary / secondary special  Single / not married  House / apartment   \n",
       "4  Secondary / secondary special               Married  House / apartment   \n",
       "\n",
       "   DAYS_BIRTH  DAYS_EMPLOYED  FLAG_MOBIL  work_phone  phone  email  \\\n",
       "0      -10072          -1101           1           1      1      0   \n",
       "1      -24340         365243           1           0      1      0   \n",
       "2      -15724          -1389           1           1      1      0   \n",
       "3      -11505          -4019           1           0      0      0   \n",
       "4      -15929          -2879           1           0      1      0   \n",
       "\n",
       "    occyp_type  family_size  begin_month  credit  \n",
       "0   Core staff            1          -10     NaN  \n",
       "1          NaN            1          -52     NaN  \n",
       "2  Sales staff            2          -15     NaN  \n",
       "3     Laborers            3          -24     NaN  \n",
       "4     Laborers            2          -54     NaN  "
      ]
     },
     "execution_count": 6,
     "metadata": {},
     "output_type": "execute_result"
    }
   ],
   "source": [
    "test.head()"
   ]
  },
  {
   "cell_type": "markdown",
   "id": "47fc32e5",
   "metadata": {},
   "source": [
    "### (1) index 전처리\n",
    "+ index column은 분류 모델에 무의미하다는 판단 $\\to$ drop"
   ]
  },
  {
   "cell_type": "code",
   "execution_count": 7,
   "id": "0b913390",
   "metadata": {},
   "outputs": [],
   "source": [
    "train = train.drop(['index'],axis=1)"
   ]
  },
  {
   "cell_type": "code",
   "execution_count": 8,
   "id": "d4d3cb18",
   "metadata": {},
   "outputs": [],
   "source": [
    "test = test.drop(['index'],axis=1)"
   ]
  },
  {
   "cell_type": "markdown",
   "id": "7a97c2a6",
   "metadata": {},
   "source": [
    "### (2) DAYS_EMPLOYED 전처리\n",
    "+ 양수 값 : 크기에 상관없이 고용되지 않은 상태를 의미 $\\to$ 양수 값에 대한 전처리 : 모두 0으로"
   ]
  },
  {
   "cell_type": "code",
   "execution_count": 9,
   "id": "6a83b24b",
   "metadata": {},
   "outputs": [
    {
     "data": {
      "text/html": [
       "<div>\n",
       "<style scoped>\n",
       "    .dataframe tbody tr th:only-of-type {\n",
       "        vertical-align: middle;\n",
       "    }\n",
       "\n",
       "    .dataframe tbody tr th {\n",
       "        vertical-align: top;\n",
       "    }\n",
       "\n",
       "    .dataframe thead th {\n",
       "        text-align: right;\n",
       "    }\n",
       "</style>\n",
       "<table border=\"1\" class=\"dataframe\">\n",
       "  <thead>\n",
       "    <tr style=\"text-align: right;\">\n",
       "      <th></th>\n",
       "      <th>gender</th>\n",
       "      <th>car</th>\n",
       "      <th>reality</th>\n",
       "      <th>child_num</th>\n",
       "      <th>income_total</th>\n",
       "      <th>income_type</th>\n",
       "      <th>edu_type</th>\n",
       "      <th>family_type</th>\n",
       "      <th>house_type</th>\n",
       "      <th>DAYS_BIRTH</th>\n",
       "      <th>DAYS_EMPLOYED</th>\n",
       "      <th>FLAG_MOBIL</th>\n",
       "      <th>work_phone</th>\n",
       "      <th>phone</th>\n",
       "      <th>email</th>\n",
       "      <th>occyp_type</th>\n",
       "      <th>family_size</th>\n",
       "      <th>begin_month</th>\n",
       "      <th>credit</th>\n",
       "    </tr>\n",
       "  </thead>\n",
       "  <tbody>\n",
       "  </tbody>\n",
       "</table>\n",
       "</div>"
      ],
      "text/plain": [
       "Empty DataFrame\n",
       "Columns: [gender, car, reality, child_num, income_total, income_type, edu_type, family_type, house_type, DAYS_BIRTH, DAYS_EMPLOYED, FLAG_MOBIL, work_phone, phone, email, occyp_type, family_size, begin_month, credit]\n",
       "Index: []"
      ]
     },
     "execution_count": 9,
     "metadata": {},
     "output_type": "execute_result"
    }
   ],
   "source": [
    "# 기존에 'DAYS_EMPLOYED'가 0의 값을 가지는 경우 -> 존재하지 않음\n",
    "train[train['DAYS_EMPLOYED']==0]"
   ]
  },
  {
   "cell_type": "code",
   "execution_count": 10,
   "id": "02b8dafc",
   "metadata": {},
   "outputs": [],
   "source": [
    "# 'DAYS_EMPLOYED'값이 0보다 큰 경우 모두 0으로 지정\n",
    "train.loc[train['DAYS_EMPLOYED']>0, 'DAYS_EMPLOYED'] = 0"
   ]
  },
  {
   "cell_type": "code",
   "execution_count": 11,
   "id": "076ce0da",
   "metadata": {},
   "outputs": [],
   "source": [
    "# 'DAYS_EMPLOYED'값이 0보다 큰 경우 모두 0으로 지정\n",
    "test.loc[test['DAYS_EMPLOYED']>0, 'DAYS_EMPLOYED'] = 0"
   ]
  },
  {
   "cell_type": "markdown",
   "id": "ed181c06",
   "metadata": {},
   "source": [
    "### (3) occyp_type 전처리\n",
    "+ train : 4132개의 NaN 값 존재\n",
    "+ test : 4039개의 NaN 값 존재"
   ]
  },
  {
   "cell_type": "markdown",
   "id": "7126b68b",
   "metadata": {},
   "source": [
    "#### train"
   ]
  },
  {
   "cell_type": "code",
   "execution_count": 12,
   "id": "b55c0770",
   "metadata": {
    "scrolled": false
   },
   "outputs": [
    {
     "data": {
      "text/plain": [
       "(4132, 19)"
      ]
     },
     "execution_count": 12,
     "metadata": {},
     "output_type": "execute_result"
    }
   ],
   "source": [
    "# train에서 'occyp_type'가 NaN 값인 크기\n",
    "train[train['occyp_type'].isnull()].shape"
   ]
  },
  {
   "cell_type": "code",
   "execution_count": 13,
   "id": "bae0ec00",
   "metadata": {
    "scrolled": true
   },
   "outputs": [
    {
     "data": {
      "text/plain": [
       "(2247, 19)"
      ]
     },
     "execution_count": 13,
     "metadata": {},
     "output_type": "execute_result"
    }
   ],
   "source": [
    "# train에서 'DAYS_EMPLOYED'가 0인 값의 크기\n",
    "a = train[train['DAYS_EMPLOYED']==0]\n",
    "a.shape"
   ]
  },
  {
   "cell_type": "code",
   "execution_count": 14,
   "id": "c64adef8",
   "metadata": {
    "scrolled": true
   },
   "outputs": [
    {
     "data": {
      "text/plain": [
       "(2247, 19)"
      ]
     },
     "execution_count": 14,
     "metadata": {},
     "output_type": "execute_result"
    }
   ],
   "source": [
    "# train에서 'DAYS_EMPLOYED'가 0인 것들 중에 'occyp_type'가 NaN 값인 크기\n",
    "a_1 = a[a['occyp_type'].isnull()]\n",
    "a_1.shape"
   ]
  },
  {
   "cell_type": "code",
   "execution_count": 15,
   "id": "7dddbf29",
   "metadata": {},
   "outputs": [
    {
     "data": {
      "text/plain": [
       "True"
      ]
     },
     "execution_count": 15,
     "metadata": {},
     "output_type": "execute_result"
    }
   ],
   "source": [
    "# train에서 'DAYS_EMPLOYED'가 0이면 'occyp_type'은 NaN 값을 가짐\n",
    "a_1.equals(a)"
   ]
  },
  {
   "cell_type": "markdown",
   "id": "217f582c",
   "metadata": {},
   "source": [
    "#### test"
   ]
  },
  {
   "cell_type": "code",
   "execution_count": 16,
   "id": "3cd21574",
   "metadata": {},
   "outputs": [
    {
     "data": {
      "text/plain": [
       "(4039, 19)"
      ]
     },
     "execution_count": 16,
     "metadata": {},
     "output_type": "execute_result"
    }
   ],
   "source": [
    "# test에서 'occyp_type'가 NaN 값인 크기\n",
    "test[test['occyp_type'].isnull()].shape"
   ]
  },
  {
   "cell_type": "code",
   "execution_count": 17,
   "id": "fc70496c",
   "metadata": {
    "scrolled": true
   },
   "outputs": [
    {
     "data": {
      "text/plain": [
       "(2191, 19)"
      ]
     },
     "execution_count": 17,
     "metadata": {},
     "output_type": "execute_result"
    }
   ],
   "source": [
    "# test에서 'DAYS_EMPLOYED'가 0인 값의 크기\n",
    "b = test[test['DAYS_EMPLOYED']==0]\n",
    "b.shape"
   ]
  },
  {
   "cell_type": "code",
   "execution_count": 18,
   "id": "7a485ca7",
   "metadata": {
    "scrolled": true
   },
   "outputs": [
    {
     "data": {
      "text/plain": [
       "(2191, 19)"
      ]
     },
     "execution_count": 18,
     "metadata": {},
     "output_type": "execute_result"
    }
   ],
   "source": [
    "# test에서 'DAYS_EMPLOYED'가 0인 것들 중에 'occyp_type'가 NaN 값인 크기\n",
    "b_1 = b[b['occyp_type'].isnull()]\n",
    "b_1.shape"
   ]
  },
  {
   "cell_type": "code",
   "execution_count": 19,
   "id": "4e3f891d",
   "metadata": {},
   "outputs": [
    {
     "data": {
      "text/plain": [
       "True"
      ]
     },
     "execution_count": 19,
     "metadata": {},
     "output_type": "execute_result"
    }
   ],
   "source": [
    "# test에서 'DAYS_EMPLOYED'가 0이면 'occyp_type'은 NaN 값을 가짐\n",
    "b_1.equals(b)"
   ]
  },
  {
   "cell_type": "markdown",
   "id": "12ca1c0e",
   "metadata": {},
   "source": [
    "#### train, test 모두 'DAYS_EMPLOYED'가 0이면 'occyp_type'은 NaN 값을 가짐 : 무직이기에 직업 유형이 결측값을 가지는 것 $\\to$ 'None'이라는 값으로 대체"
   ]
  },
  {
   "cell_type": "markdown",
   "id": "56c8302e",
   "metadata": {},
   "source": [
    "####  'DAYS_EMPLOYED'가 0이 아닌데 'occyp_type'이 NaN 값을 가지는 경우 $\\to$ 'Extra'(기타)로 대체"
   ]
  },
  {
   "cell_type": "code",
   "execution_count": 20,
   "id": "6c5a2880",
   "metadata": {},
   "outputs": [],
   "source": [
    "train.loc[(train['DAYS_EMPLOYED'] == 0) & (train['occyp_type'].isnull()), 'occyp_type'] = 'None'"
   ]
  },
  {
   "cell_type": "code",
   "execution_count": 21,
   "id": "895b5f51",
   "metadata": {},
   "outputs": [],
   "source": [
    "train.loc[(train['DAYS_EMPLOYED'] != 0) & (train['occyp_type'].isnull()), 'occyp_type'] = 'Extra'"
   ]
  },
  {
   "cell_type": "code",
   "execution_count": 22,
   "id": "3776a8a7",
   "metadata": {},
   "outputs": [],
   "source": [
    "test.loc[(test['DAYS_EMPLOYED'] == 0) & (test['occyp_type'].isnull()), 'occyp_type'] = 'None'"
   ]
  },
  {
   "cell_type": "code",
   "execution_count": 23,
   "id": "fa390783",
   "metadata": {},
   "outputs": [],
   "source": [
    "test.loc[(test['DAYS_EMPLOYED'] != 0) & (test['occyp_type'].isnull()), 'occyp_type'] = 'Extra'"
   ]
  },
  {
   "cell_type": "code",
   "execution_count": 24,
   "id": "57f04a33",
   "metadata": {
    "scrolled": true
   },
   "outputs": [
    {
     "data": {
      "text/plain": [
       "gender           0\n",
       "car              0\n",
       "reality          0\n",
       "child_num        0\n",
       "income_total     0\n",
       "income_type      0\n",
       "edu_type         0\n",
       "family_type      0\n",
       "house_type       0\n",
       "DAYS_BIRTH       0\n",
       "DAYS_EMPLOYED    0\n",
       "FLAG_MOBIL       0\n",
       "work_phone       0\n",
       "phone            0\n",
       "email            0\n",
       "occyp_type       0\n",
       "family_size      0\n",
       "begin_month      0\n",
       "credit           0\n",
       "dtype: int64"
      ]
     },
     "execution_count": 24,
     "metadata": {},
     "output_type": "execute_result"
    }
   ],
   "source": [
    "# 결측치 해결\n",
    "train.isnull().sum()"
   ]
  },
  {
   "cell_type": "code",
   "execution_count": 25,
   "id": "3bfc6bb7",
   "metadata": {},
   "outputs": [
    {
     "data": {
      "text/plain": [
       "gender               0\n",
       "car                  0\n",
       "reality              0\n",
       "child_num            0\n",
       "income_total         0\n",
       "income_type          0\n",
       "edu_type             0\n",
       "family_type          0\n",
       "house_type           0\n",
       "DAYS_BIRTH           0\n",
       "DAYS_EMPLOYED        0\n",
       "FLAG_MOBIL           0\n",
       "work_phone           0\n",
       "phone                0\n",
       "email                0\n",
       "occyp_type           0\n",
       "family_size          0\n",
       "begin_month          0\n",
       "credit           13229\n",
       "dtype: int64"
      ]
     },
     "execution_count": 25,
     "metadata": {},
     "output_type": "execute_result"
    }
   ],
   "source": [
    "# 결측치 해결(실제 예측해야 할 credit 값 제외)\n",
    "test.isnull().sum()"
   ]
  },
  {
   "cell_type": "markdown",
   "id": "8d42ab99",
   "metadata": {},
   "source": [
    "### (4) FLAG_MOBIL 전처리\n",
    "+ 모두 1이라는 단일 값만을 가짐 $\\to$ 분류 모델에 영향이 없을 것이라는 판단 $\\to$ 변수 축소(column drop)"
   ]
  },
  {
   "cell_type": "code",
   "execution_count": 26,
   "id": "e2584fcd",
   "metadata": {},
   "outputs": [],
   "source": [
    "train = train.drop(['FLAG_MOBIL'],axis=1)"
   ]
  },
  {
   "cell_type": "code",
   "execution_count": 27,
   "id": "bc98487d",
   "metadata": {},
   "outputs": [],
   "source": [
    "test = test.drop(['FLAG_MOBIL'],axis=1)"
   ]
  },
  {
   "cell_type": "markdown",
   "id": "bc67ec9d",
   "metadata": {},
   "source": [
    "### (5) 범주형 변수 더미화"
   ]
  },
  {
   "cell_type": "code",
   "execution_count": 28,
   "id": "83e7cd03",
   "metadata": {},
   "outputs": [],
   "source": [
    "# train 더미화\n",
    "train_dum = pd.get_dummies(train, columns = ['gender','car','reality','income_type','edu_type','family_type','house_type','occyp_type'])"
   ]
  },
  {
   "cell_type": "code",
   "execution_count": 29,
   "id": "370ee520",
   "metadata": {},
   "outputs": [],
   "source": [
    "# test 더미화\n",
    "test_dum = pd.get_dummies(test, columns = ['gender','car','reality','income_type','edu_type','family_type','house_type','occyp_type'])"
   ]
  },
  {
   "cell_type": "markdown",
   "id": "acf58432",
   "metadata": {},
   "source": [
    "## 2. train 데이터셋 분리 및 추가 전처리(class imbalance)\n",
    "+ random_state = 42로 통일"
   ]
  },
  {
   "cell_type": "code",
   "execution_count": 30,
   "id": "7342e814",
   "metadata": {
    "scrolled": true
   },
   "outputs": [
    {
     "data": {
      "text/plain": [
       "1    11617\n",
       "0     1611\n",
       "Name: credit, dtype: int64"
      ]
     },
     "execution_count": 30,
     "metadata": {},
     "output_type": "execute_result"
    }
   ],
   "source": [
    "# 0과 1의 label 값의 비율 확인 -> 1:7 의 class imbalance 상태 -> 전처리\n",
    "train_dum['credit'].value_counts()"
   ]
  },
  {
   "cell_type": "code",
   "execution_count": 31,
   "id": "c98ee655",
   "metadata": {},
   "outputs": [],
   "source": [
    "# train_dum -> train:test = 7:3으로 y값의 비율 맞춰(stratify) 분리\n",
    "from sklearn.model_selection import train_test_split\n",
    "\n",
    "y = train_dum['credit']\n",
    "X = train_dum.drop(['credit'],axis=1)\n",
    "\n",
    "train_X, val_X, train_y, val_y = train_test_split(X, y, test_size=0.3, random_state=42, stratify=y)"
   ]
  },
  {
   "cell_type": "code",
   "execution_count": 32,
   "id": "3770edd0",
   "metadata": {},
   "outputs": [],
   "source": [
    "# class imbalance 해결을 위해 SMOTETomek을 이용한 복합 oversamping 진행\n",
    "# over_X : oversampling된 train_X\n",
    "# over_y : oversampling된 train_y\n",
    "from imblearn.combine import *\n",
    "\n",
    "over_X, over_y = SMOTETomek(random_state=42).fit_resample(train_X, train_y)"
   ]
  },
  {
   "cell_type": "code",
   "execution_count": 33,
   "id": "c8474e31",
   "metadata": {},
   "outputs": [],
   "source": [
    "# StandardScaler을 이용해 데이터셋 정규화\n",
    "from sklearn.preprocessing import StandardScaler\n",
    "sd=StandardScaler()\n",
    "\n",
    "sd.fit(over_X)\n",
    "over_X_sd = sd.transform(over_X)\n",
    "val_X_sd = sd.transform(val_X)"
   ]
  },
  {
   "cell_type": "markdown",
   "id": "e5441cb2",
   "metadata": {},
   "source": [
    "## 3. Modeling"
   ]
  },
  {
   "cell_type": "markdown",
   "id": "18897ece",
   "metadata": {},
   "source": [
    "### Deep Neural Network(DNN)"
   ]
  },
  {
   "cell_type": "markdown",
   "id": "79928a1d",
   "metadata": {},
   "source": [
    "#### MLPClassifier 사용"
   ]
  },
  {
   "cell_type": "code",
   "execution_count": 34,
   "id": "3f885e4c",
   "metadata": {
    "scrolled": true
   },
   "outputs": [],
   "source": [
    "from sklearn.neural_network import MLPClassifier\n",
    "\n",
    "mlp = MLPClassifier(random_state=42)"
   ]
  },
  {
   "cell_type": "code",
   "execution_count": 35,
   "id": "c81dba8c",
   "metadata": {
    "scrolled": true
   },
   "outputs": [
    {
     "data": {
      "text/plain": [
       "dict_keys(['activation', 'alpha', 'batch_size', 'beta_1', 'beta_2', 'early_stopping', 'epsilon', 'hidden_layer_sizes', 'learning_rate', 'learning_rate_init', 'max_fun', 'max_iter', 'momentum', 'n_iter_no_change', 'nesterovs_momentum', 'power_t', 'random_state', 'shuffle', 'solver', 'tol', 'validation_fraction', 'verbose', 'warm_start'])"
      ]
     },
     "execution_count": 35,
     "metadata": {},
     "output_type": "execute_result"
    }
   ],
   "source": [
    "# 하이퍼파라미터 탐색\n",
    "mlp.get_params().keys()"
   ]
  },
  {
   "cell_type": "code",
   "execution_count": 36,
   "id": "60afffa5",
   "metadata": {},
   "outputs": [
    {
     "data": {
      "text/plain": [
       "GridSearchCV(cv=5, estimator=MLPClassifier(random_state=42),\n",
       "             param_grid={'activation': ['tanh', 'relu']}, scoring='accuracy')"
      ]
     },
     "execution_count": 36,
     "metadata": {},
     "output_type": "execute_result"
    }
   ],
   "source": [
    "# 그리드 서치 -> 하이퍼파라미터 튜닝 진행\n",
    "from sklearn.model_selection import GridSearchCV\n",
    "\n",
    "mlp = MLPClassifier(random_state=42)\n",
    "para1 = {'activation': ['tanh', 'relu']}\n",
    "\n",
    "mlp = GridSearchCV(estimator = mlp, param_grid = para1, cv=5, scoring='accuracy')\n",
    "mlp.fit(over_X_sd, over_y)"
   ]
  },
  {
   "cell_type": "code",
   "execution_count": 37,
   "id": "b57c3a6e",
   "metadata": {},
   "outputs": [
    {
     "data": {
      "text/plain": [
       "{'activation': 'tanh'}"
      ]
     },
     "execution_count": 37,
     "metadata": {},
     "output_type": "execute_result"
    }
   ],
   "source": [
    "# 최적 하이퍼파라미터 확인\n",
    "mlp.best_params_"
   ]
  },
  {
   "cell_type": "code",
   "execution_count": 38,
   "id": "52d79a3c",
   "metadata": {
    "scrolled": true
   },
   "outputs": [
    {
     "data": {
      "text/plain": [
       "0.8359788359788359"
      ]
     },
     "execution_count": 38,
     "metadata": {},
     "output_type": "execute_result"
    }
   ],
   "source": [
    "# 검증 데이터 accuracy 확인\n",
    "from sklearn.metrics import accuracy_score\n",
    "\n",
    "mlp = MLPClassifier(activation='tanh', random_state=42).fit(over_X_sd, over_y)\n",
    "pred = mlp.predict(val_X_sd)\n",
    "accuracy_score(val_y, pred)"
   ]
  },
  {
   "cell_type": "markdown",
   "id": "a354ea5c",
   "metadata": {},
   "source": [
    "#### DNN 직접 구현"
   ]
  },
  {
   "cell_type": "code",
   "execution_count": 39,
   "id": "28f87812",
   "metadata": {},
   "outputs": [],
   "source": [
    "# 모델 구현\n",
    "from tensorflow import keras\n",
    "from tensorflow.keras import models\n",
    "from tensorflow.keras import layers\n",
    "\n",
    "model = models.Sequential()\n",
    "model.add(layers.Dense(4, activation='relu', input_shape=(56,)))\n",
    "model.add(layers.Dense(4, activation='relu'))\n",
    "model.add(layers.Dense(4, activation='relu'))\n",
    "model.add(layers.Dense(1, activation='sigmoid')) "
   ]
  },
  {
   "cell_type": "code",
   "execution_count": 40,
   "id": "3bc39cc5",
   "metadata": {},
   "outputs": [],
   "source": [
    "# compiling\n",
    "model.compile(optimizer = 'rmsprop', loss = 'binary_crossentropy', metrics = 'acc')"
   ]
  },
  {
   "cell_type": "code",
   "execution_count": 41,
   "id": "5d574f71",
   "metadata": {
    "scrolled": true
   },
   "outputs": [
    {
     "name": "stdout",
     "output_type": "stream",
     "text": [
      "Epoch 1/100\n",
      "472/472 [==============================] - 3s 5ms/step - loss: 0.6148 - acc: 0.7477 - val_loss: 0.4733 - val_acc: 0.8730\n",
      "Epoch 2/100\n",
      "472/472 [==============================] - 2s 4ms/step - loss: 0.5082 - acc: 0.8540 - val_loss: 0.4143 - val_acc: 0.8763\n",
      "Epoch 3/100\n",
      "472/472 [==============================] - 2s 4ms/step - loss: 0.4497 - acc: 0.8662 - val_loss: 0.4180 - val_acc: 0.8748\n",
      "Epoch 4/100\n",
      "472/472 [==============================] - 2s 4ms/step - loss: 0.4094 - acc: 0.8724 - val_loss: 0.4073 - val_acc: 0.8758\n",
      "Epoch 5/100\n",
      "472/472 [==============================] - 2s 4ms/step - loss: 0.3814 - acc: 0.8764 - val_loss: 0.4115 - val_acc: 0.8748\n",
      "Epoch 6/100\n",
      "472/472 [==============================] - 2s 4ms/step - loss: 0.3622 - acc: 0.8789 - val_loss: 0.4175 - val_acc: 0.8733\n",
      "Epoch 7/100\n",
      "472/472 [==============================] - 2s 4ms/step - loss: 0.3490 - acc: 0.8782 - val_loss: 0.4062 - val_acc: 0.8753\n",
      "Epoch 8/100\n",
      "472/472 [==============================] - 2s 4ms/step - loss: 0.3396 - acc: 0.8784 - val_loss: 0.4082 - val_acc: 0.8750\n",
      "Epoch 9/100\n",
      "472/472 [==============================] - 2s 4ms/step - loss: 0.3324 - acc: 0.8795 - val_loss: 0.4266 - val_acc: 0.8720\n",
      "Epoch 10/100\n",
      "472/472 [==============================] - 2s 4ms/step - loss: 0.3268 - acc: 0.8800 - val_loss: 0.4106 - val_acc: 0.8743\n",
      "Epoch 11/100\n",
      "472/472 [==============================] - 2s 4ms/step - loss: 0.3222 - acc: 0.8801 - val_loss: 0.4137 - val_acc: 0.8735\n",
      "Epoch 12/100\n",
      "472/472 [==============================] - 2s 4ms/step - loss: 0.3182 - acc: 0.8796 - val_loss: 0.4303 - val_acc: 0.8685\n",
      "Epoch 13/100\n",
      "472/472 [==============================] - 2s 4ms/step - loss: 0.3153 - acc: 0.8797 - val_loss: 0.4191 - val_acc: 0.8725\n",
      "Epoch 14/100\n",
      "472/472 [==============================] - 2s 4ms/step - loss: 0.3133 - acc: 0.8807 - val_loss: 0.4116 - val_acc: 0.8750\n",
      "Epoch 15/100\n",
      "472/472 [==============================] - 2s 4ms/step - loss: 0.3107 - acc: 0.8800 - val_loss: 0.4173 - val_acc: 0.8735\n",
      "Epoch 16/100\n",
      "472/472 [==============================] - 2s 3ms/step - loss: 0.3090 - acc: 0.8810 - val_loss: 0.4082 - val_acc: 0.8760\n",
      "Epoch 17/100\n",
      "472/472 [==============================] - 2s 4ms/step - loss: 0.3074 - acc: 0.8806 - val_loss: 0.4133 - val_acc: 0.8745\n"
     ]
    }
   ],
   "source": [
    "# earlystopping 생성\n",
    "early_stopping = keras.callbacks.EarlyStopping(patience=10, min_delta=0.001,restore_best_weights=True)\n",
    "\n",
    "history = model.fit(over_X_sd, over_y,\n",
    "                    validation_data=(val_X_sd, val_y),\n",
    "                    batch_size=32, epochs=100, callbacks=[early_stopping])"
   ]
  },
  {
   "cell_type": "code",
   "execution_count": 42,
   "id": "0f5e8c3e",
   "metadata": {},
   "outputs": [
    {
     "data": {
      "text/plain": [
       "dict_keys(['loss', 'acc', 'val_loss', 'val_acc'])"
      ]
     },
     "execution_count": 42,
     "metadata": {},
     "output_type": "execute_result"
    }
   ],
   "source": [
    "history_dict = history.history\n",
    "history_dict.keys()"
   ]
  },
  {
   "cell_type": "code",
   "execution_count": 43,
   "id": "c929ee99",
   "metadata": {
    "scrolled": false
   },
   "outputs": [
    {
     "name": "stdout",
     "output_type": "stream",
     "text": [
      "Best Validation Loss: 0.40618\n",
      "Best Validation Accuracy: 0.87629\n"
     ]
    },
    {
     "data": {
      "image/png": "[encoded data removed]",
      "text/plain": [
       "<Figure size 432x288 with 1 Axes>"
      ]
     },
     "metadata": {
      "needs_background": "light"
     },
     "output_type": "display_data"
    },
    {
     "data": {
      "image/png": "[encoded data removed]",
      "text/plain": [
       "<Figure size 432x288 with 1 Axes>"
      ]
     },
     "metadata": {
      "needs_background": "light"
     },
     "output_type": "display_data"
    }
   ],
   "source": [
    "# loss, accuracy 시각화\n",
    "history_df = pd.DataFrame(history.history)\n",
    "history_df.loc[1:, ['loss', 'val_loss']].plot()\n",
    "history_df.loc[1:, ['acc', 'val_acc']].plot()\n",
    "\n",
    "print((\"Best Validation Loss: {:0.5f}\" +\\\n",
    "      \"\\nBest Validation Accuracy: {:0.5f}\")\\\n",
    "      .format(history_df['val_loss'].min(), history_df['val_acc'].max()))"
   ]
  },
  {
   "cell_type": "markdown",
   "id": "c9feadd1",
   "metadata": {},
   "source": [
    "### Decision Tree(DT)"
   ]
  },
  {
   "cell_type": "code",
   "execution_count": 44,
   "id": "73f217c4",
   "metadata": {},
   "outputs": [],
   "source": [
    "# decision tree 클래스 지정\n",
    "from sklearn.tree import DecisionTreeClassifier\n",
    "\n",
    "dt = DecisionTreeClassifier(random_state=42)"
   ]
  },
  {
   "cell_type": "code",
   "execution_count": 45,
   "id": "b52417f0",
   "metadata": {},
   "outputs": [
    {
     "data": {
      "text/plain": [
       "dict_keys(['ccp_alpha', 'class_weight', 'criterion', 'max_depth', 'max_features', 'max_leaf_nodes', 'min_impurity_decrease', 'min_samples_leaf', 'min_samples_split', 'min_weight_fraction_leaf', 'random_state', 'splitter'])"
      ]
     },
     "execution_count": 45,
     "metadata": {},
     "output_type": "execute_result"
    }
   ],
   "source": [
    "# 하이퍼파라미터 탐색\n",
    "dt.get_params().keys()"
   ]
  },
  {
   "cell_type": "code",
   "execution_count": 46,
   "id": "8c8a92e2",
   "metadata": {},
   "outputs": [
    {
     "data": {
      "text/plain": [
       "GridSearchCV(cv=5, estimator=DecisionTreeClassifier(random_state=42),\n",
       "             param_grid={'criterion': ['gini', 'entropy'],\n",
       "                         'max_depth': [5, 10, 15, 20]},\n",
       "             scoring='accuracy')"
      ]
     },
     "execution_count": 46,
     "metadata": {},
     "output_type": "execute_result"
    }
   ],
   "source": [
    "# 그리드 서치 -> 하이퍼파라미터 튜닝 진행\n",
    "dt = DecisionTreeClassifier(random_state=42)\n",
    "para2 = {'criterion':['gini','entropy'], 'max_depth':[5, 10, 15, 20]}\n",
    "\n",
    "dt = GridSearchCV(estimator = dt, param_grid = para2, cv=5, scoring='accuracy')\n",
    "dt.fit(over_X_sd, over_y)"
   ]
  },
  {
   "cell_type": "code",
   "execution_count": 47,
   "id": "1d59807d",
   "metadata": {},
   "outputs": [
    {
     "data": {
      "text/plain": [
       "{'criterion': 'entropy', 'max_depth': 20}"
      ]
     },
     "execution_count": 47,
     "metadata": {},
     "output_type": "execute_result"
    }
   ],
   "source": [
    "# 최적 하이퍼파라미터 확인\n",
    "dt.best_params_"
   ]
  },
  {
   "cell_type": "code",
   "execution_count": 48,
   "id": "ce16874c",
   "metadata": {},
   "outputs": [
    {
     "name": "stdout",
     "output_type": "stream",
     "text": [
      "0.8133030990173847\n"
     ]
    }
   ],
   "source": [
    "# 검증 데이터 accuracy 확인\n",
    "dt = DecisionTreeClassifier(criterion='entropy', max_depth=20, random_state=42)\n",
    "dt.fit(over_X_sd, over_y)\n",
    "pred = dt.predict(val_X_sd)\n",
    "print(accuracy_score(val_y, pred))"
   ]
  },
  {
   "cell_type": "markdown",
   "id": "2d2bf54d",
   "metadata": {},
   "source": [
    "### Logistic Regression(LR)"
   ]
  },
  {
   "cell_type": "code",
   "execution_count": 49,
   "id": "0e0e14c2",
   "metadata": {},
   "outputs": [],
   "source": [
    "# logistic regression 클래스 지정\n",
    "from sklearn.linear_model import LogisticRegression\n",
    "\n",
    "lr = LogisticRegression(random_state=42)"
   ]
  },
  {
   "cell_type": "code",
   "execution_count": 50,
   "id": "8e27170b",
   "metadata": {
    "scrolled": true
   },
   "outputs": [
    {
     "data": {
      "text/plain": [
       "dict_keys(['C', 'class_weight', 'dual', 'fit_intercept', 'intercept_scaling', 'l1_ratio', 'max_iter', 'multi_class', 'n_jobs', 'penalty', 'random_state', 'solver', 'tol', 'verbose', 'warm_start'])"
      ]
     },
     "execution_count": 50,
     "metadata": {},
     "output_type": "execute_result"
    }
   ],
   "source": [
    "# 하이퍼파라미터 탐색\n",
    "lr.get_params().keys()"
   ]
  },
  {
   "cell_type": "code",
   "execution_count": 51,
   "id": "23b95891",
   "metadata": {
    "scrolled": true
   },
   "outputs": [
    {
     "data": {
      "text/plain": [
       "GridSearchCV(cv=5, estimator=LogisticRegression(random_state=42),\n",
       "             param_grid={'C': [0.001, 0.01, 0.1, 1, 10, 100],\n",
       "                         'penalty': ['l1', 'l2']},\n",
       "             scoring='accuracy')"
      ]
     },
     "execution_count": 51,
     "metadata": {},
     "output_type": "execute_result"
    }
   ],
   "source": [
    "# 그리드 서치 -> 하이퍼파라미터 튜닝 진행\n",
    "lr = LogisticRegression(random_state=42)\n",
    "para3 = {'C': [0.001, 0.01, 0.1, 1, 10, 100], 'penalty': ['l1', 'l2']}\n",
    "\n",
    "lr = GridSearchCV(estimator = lr, param_grid = para3, cv=5, scoring='accuracy')\n",
    "lr.fit(over_X_sd, over_y)"
   ]
  },
  {
   "cell_type": "code",
   "execution_count": 52,
   "id": "c95a5fda",
   "metadata": {},
   "outputs": [
    {
     "data": {
      "text/plain": [
       "{'C': 1, 'penalty': 'l2'}"
      ]
     },
     "execution_count": 52,
     "metadata": {},
     "output_type": "execute_result"
    }
   ],
   "source": [
    "# 최적 하이퍼파라미터 확인\n",
    "lr.best_params_"
   ]
  },
  {
   "cell_type": "code",
   "execution_count": 53,
   "id": "b293e8ff",
   "metadata": {},
   "outputs": [
    {
     "name": "stdout",
     "output_type": "stream",
     "text": [
      "0.8778029730410682\n"
     ]
    }
   ],
   "source": [
    "# 검증 데이터 accuracy 확인\n",
    "lr = LogisticRegression(C=1, penalty='l2', random_state=42)\n",
    "lr.fit(over_X_sd, over_y)\n",
    "pred = lr.predict(val_X_sd)\n",
    "print(accuracy_score(val_y, pred))"
   ]
  },
  {
   "cell_type": "markdown",
   "id": "061b0a7c",
   "metadata": {},
   "source": [
    "## 4. 결과 비교"
   ]
  },
  {
   "cell_type": "markdown",
   "id": "5a969292",
   "metadata": {},
   "source": [
    "**모델별 최고 성능**\n",
    "+ DNN(MLPClassifier) : 0.8359788359788359\n",
    "+ DNN(직접 구현) : 0.87629\n",
    "+ Decision Tree : 0.8133030990173847\n",
    "+ Logistic Regression : 0.8778029730410682"
   ]
  },
  {
   "cell_type": "markdown",
   "id": "a78cba90",
   "metadata": {},
   "source": [
    "**군집화를 진행하지 않은 일반적인 DNN, Decision Tree, Logistic Regrssion 중에서는 LR이 약 0.8778으로 성능이 가장 우수**"
   ]
  }
 ],
 "metadata": {
  "kernelspec": {
   "display_name": "Python 3 (ipykernel)",
   "language": "python",
   "name": "python3"
  },
  "language_info": {
   "codemirror_mode": {
    "name": "ipython",
    "version": 3
   },
   "file_extension": ".py",
   "mimetype": "text/x-python",
   "name": "python",
   "nbconvert_exporter": "python",
   "pygments_lexer": "ipython3",
   "version": "3.9.12"
  }
 },
 "nbformat": 4,
 "nbformat_minor": 5
}
